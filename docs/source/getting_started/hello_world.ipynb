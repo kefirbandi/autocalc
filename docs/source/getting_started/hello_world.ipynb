{
 "cells": [
  {
   "cell_type": "markdown",
   "id": "a97786f6",
   "metadata": {},
   "source": [
    "# Hello World Example\n",
    "\n",
    "* Note, that interactivity does not work in the static HTML docs.\n",
    "* You can download the source of this page as a Jupyter notebook using the \"View page source\" link in the upper right corner."
   ]
  },
  {
   "cell_type": "code",
   "execution_count": 1,
   "id": "1797ebf8",
   "metadata": {},
   "outputs": [],
   "source": [
    "from autocalc.autocalc import Var\n",
    "import ipywidgets as widgets"
   ]
  },
  {
   "cell_type": "code",
   "execution_count": 2,
   "id": "65650ae5",
   "metadata": {},
   "outputs": [],
   "source": [
    "name_input=Var('Your name', description='Enter your name', widget=widgets.Text())\n",
    "\n",
    "def greeting_text(name):\n",
    "    return f'Hello {name}'\n",
    "\n",
    "greeting = Var('Greeting', fun=greeting_text, inputs=[name_input], widget=widgets.Text(), read_only=True)"
   ]
  },
  {
   "cell_type": "code",
   "execution_count": 3,
   "id": "f51fa462",
   "metadata": {},
   "outputs": [
    {
     "data": {
      "application/vnd.jupyter.widget-view+json": {
       "model_id": "3969a12ff42f4a06ba8129a128349ae7",
       "version_major": 2,
       "version_minor": 0
      },
      "text/plain": [
       "HBox(children=(Button(description='Your name (?)', disabled=True, style=ButtonStyle(button_color='lightgreen')…"
      ]
     },
     "metadata": {},
     "output_type": "display_data"
    },
    {
     "data": {
      "application/vnd.jupyter.widget-view+json": {
       "model_id": "8194bb8689cc493c9f29cc997bc87079",
       "version_major": 2,
       "version_minor": 0
      },
      "text/plain": [
       "HBox(children=(Button(description='Greeting', disabled=True, style=ButtonStyle()), Text(value='', disabled=Tru…"
      ]
     },
     "metadata": {},
     "output_type": "display_data"
    }
   ],
   "source": [
    "display(name_input)\n",
    "display(greeting)"
   ]
  },
  {
   "cell_type": "code",
   "execution_count": 4,
   "id": "5bec56c4",
   "metadata": {},
   "outputs": [
    {
     "data": {
      "application/vnd.jupyter.widget-view+json": {
       "model_id": "39bf3d92081547f996a22d3b24a10415",
       "version_major": 2,
       "version_minor": 0
      },
      "text/plain": [
       "Text(value='', disabled=True)"
      ]
     },
     "metadata": {},
     "output_type": "display_data"
    }
   ],
   "source": [
    "display(greeting.widget)"
   ]
  }
 ],
 "metadata": {
  "kernelspec": {
   "display_name": "Python 3",
   "language": "python",
   "name": "python3"
  },
  "language_info": {
   "codemirror_mode": {
    "name": "ipython",
    "version": 3
   },
   "file_extension": ".py",
   "mimetype": "text/x-python",
   "name": "python",
   "nbconvert_exporter": "python",
   "pygments_lexer": "ipython3",
   "version": "3.9.1"
  },
  "widgets": {
   "application/vnd.jupyter.widget-state+json": {
    "state": {
     "07689233ba644838bc1f8589f31aab2d": {
      "model_module": "@jupyter-widgets/base",
      "model_module_version": "1.2.0",
      "model_name": "LayoutModel",
      "state": {}
     },
     "0e979088deac4f33ab4fa2eff781882a": {
      "model_module": "@jupyter-widgets/base",
      "model_module_version": "1.2.0",
      "model_name": "LayoutModel",
      "state": {}
     },
     "147f904af5f54687ba719435ac729cab": {
      "model_module": "@jupyter-widgets/controls",
      "model_module_version": "1.5.0",
      "model_name": "ButtonStyleModel",
      "state": {}
     },
     "14ed62272f1a424fa2a403ac0ff44a3a": {
      "model_module": "@jupyter-widgets/controls",
      "model_module_version": "1.5.0",
      "model_name": "TextModel",
      "state": {
       "layout": "IPY_MODEL_7b748d2b278c4daeac3979af12dae07d",
       "style": "IPY_MODEL_65a20baf4a1843269856ff5421be6fcf"
      }
     },
     "17428292656a45fd90f636bd2fc8bd20": {
      "model_module": "@jupyter-widgets/base",
      "model_module_version": "1.2.0",
      "model_name": "LayoutModel",
      "state": {}
     },
     "23da22252a97466290b49c03d60f0105": {
      "model_module": "@jupyter-widgets/controls",
      "model_module_version": "1.5.0",
      "model_name": "ButtonModel",
      "state": {
       "description": "Greeting",
       "disabled": true,
       "layout": "IPY_MODEL_a5ae8fee58124d059e4e06e9a247b1d5",
       "style": "IPY_MODEL_3f871847b8094c7dba83a30e0cb7cd5b"
      }
     },
     "24ced1582df84df8a3c9bacf61ad471d": {
      "model_module": "@jupyter-widgets/controls",
      "model_module_version": "1.5.0",
      "model_name": "HBoxModel",
      "state": {
       "children": [
        "IPY_MODEL_db175a044d6340989083f364815e70db",
        "IPY_MODEL_f90b787d7ebd42e88943060a40668d9a"
       ],
       "layout": "IPY_MODEL_c7fe5f8cad794cb7adf0be33a8329c29"
      }
     },
     "28e51d89e52a436a8c75abab2d3e0f32": {
      "model_module": "@jupyter-widgets/base",
      "model_module_version": "1.2.0",
      "model_name": "LayoutModel",
      "state": {}
     },
     "2ee0a30eb1044de9b6f59b246f171029": {
      "model_module": "@jupyter-widgets/controls",
      "model_module_version": "1.5.0",
      "model_name": "TextModel",
      "state": {
       "disabled": true,
       "layout": "IPY_MODEL_301f53efc91c494dab2277cceadc5708",
       "style": "IPY_MODEL_d6a3788cc81e408fb64dce4b82eb8e61",
       "value": "Hello Bela"
      }
     },
     "2fedc275ea524008b739412c66e8ed09": {
      "model_module": "@jupyter-widgets/controls",
      "model_module_version": "1.5.0",
      "model_name": "DescriptionStyleModel",
      "state": {
       "description_width": ""
      }
     },
     "301f53efc91c494dab2277cceadc5708": {
      "model_module": "@jupyter-widgets/base",
      "model_module_version": "1.2.0",
      "model_name": "LayoutModel",
      "state": {}
     },
     "3102b865e6e044789e1c1bb9a74a293a": {
      "model_module": "@jupyter-widgets/base",
      "model_module_version": "1.2.0",
      "model_name": "LayoutModel",
      "state": {}
     },
     "333dc728e8594096b2df3d42b4f3b8d4": {
      "model_module": "@jupyter-widgets/base",
      "model_module_version": "1.2.0",
      "model_name": "LayoutModel",
      "state": {}
     },
     "37182e78f79a4fe29e859b3da9c7b4ac": {
      "model_module": "@jupyter-widgets/base",
      "model_module_version": "1.2.0",
      "model_name": "LayoutModel",
      "state": {}
     },
     "38beccf0989644b5981c66ef2126ece7": {
      "model_module": "@jupyter-widgets/base",
      "model_module_version": "1.2.0",
      "model_name": "LayoutModel",
      "state": {}
     },
     "3b6def02b25644a7905ad171c26251c1": {
      "model_module": "@jupyter-widgets/controls",
      "model_module_version": "1.5.0",
      "model_name": "HBoxModel",
      "state": {
       "children": [
        "IPY_MODEL_471d5bbfd8554d7a944f883ac21c40e0",
        "IPY_MODEL_d8706075980d457187c344b8600044e5"
       ],
       "layout": "IPY_MODEL_660103bbfbd34c37899cc2984969501a"
      }
     },
     "3daefc7893ca4063bf0ff9afd789ef17": {
      "model_module": "@jupyter-widgets/base",
      "model_module_version": "1.2.0",
      "model_name": "LayoutModel",
      "state": {}
     },
     "3f871847b8094c7dba83a30e0cb7cd5b": {
      "model_module": "@jupyter-widgets/controls",
      "model_module_version": "1.5.0",
      "model_name": "ButtonStyleModel",
      "state": {}
     },
     "41069b4120c74ff597390612e5e57f86": {
      "model_module": "@jupyter-widgets/base",
      "model_module_version": "1.2.0",
      "model_name": "LayoutModel",
      "state": {}
     },
     "41ca628f5cc5475faa81d86fa34aa7b1": {
      "model_module": "@jupyter-widgets/controls",
      "model_module_version": "1.5.0",
      "model_name": "ButtonStyleModel",
      "state": {}
     },
     "439f76fa4caf4123b4f90f5ebf8b45b4": {
      "model_module": "@jupyter-widgets/controls",
      "model_module_version": "1.5.0",
      "model_name": "HBoxModel",
      "state": {
       "children": [
        "IPY_MODEL_cee6c64ecd1d499f90da6f8df5edba38",
        "IPY_MODEL_450867b977344baaa32f55908c76d0d6"
       ],
       "layout": "IPY_MODEL_4e04c41633c448c7922be2d3695c3e05"
      }
     },
     "442ab76a25da4640bbc14026bc75338e": {
      "model_module": "@jupyter-widgets/controls",
      "model_module_version": "1.5.0",
      "model_name": "HBoxModel",
      "state": {
       "children": [
        "IPY_MODEL_fa9f2e7c27504de3b5c65ca8d215754f",
        "IPY_MODEL_2ee0a30eb1044de9b6f59b246f171029"
       ],
       "layout": "IPY_MODEL_3daefc7893ca4063bf0ff9afd789ef17"
      }
     },
     "450867b977344baaa32f55908c76d0d6": {
      "model_module": "@jupyter-widgets/controls",
      "model_module_version": "1.5.0",
      "model_name": "TextModel",
      "state": {
       "layout": "IPY_MODEL_668de62397654a31a6902cbad524787b",
       "style": "IPY_MODEL_2fedc275ea524008b739412c66e8ed09",
       "value": "Ubul"
      }
     },
     "471d5bbfd8554d7a944f883ac21c40e0": {
      "model_module": "@jupyter-widgets/controls",
      "model_module_version": "1.5.0",
      "model_name": "ButtonModel",
      "state": {
       "description": "Greeting",
       "disabled": true,
       "layout": "IPY_MODEL_0e979088deac4f33ab4fa2eff781882a",
       "style": "IPY_MODEL_41ca628f5cc5475faa81d86fa34aa7b1"
      }
     },
     "4e04c41633c448c7922be2d3695c3e05": {
      "model_module": "@jupyter-widgets/base",
      "model_module_version": "1.2.0",
      "model_name": "LayoutModel",
      "state": {}
     },
     "4e85550a51104e9ca98e0842b5ead9d6": {
      "model_module": "@jupyter-widgets/controls",
      "model_module_version": "1.5.0",
      "model_name": "HBoxModel",
      "state": {
       "children": [
        "IPY_MODEL_da75727a82ed410eab34b48e13701145",
        "IPY_MODEL_60bce7e704334c65b444e0daedbd6055"
       ],
       "layout": "IPY_MODEL_569bbc5198694bea825d6d29a3078abd"
      }
     },
     "50deec3adeef41e3ae8100ec7b423cd6": {
      "model_module": "@jupyter-widgets/base",
      "model_module_version": "1.2.0",
      "model_name": "LayoutModel",
      "state": {}
     },
     "5248391fb00e4b678cfd1c4d563813b6": {
      "model_module": "@jupyter-widgets/controls",
      "model_module_version": "1.5.0",
      "model_name": "ButtonStyleModel",
      "state": {}
     },
     "569bbc5198694bea825d6d29a3078abd": {
      "model_module": "@jupyter-widgets/base",
      "model_module_version": "1.2.0",
      "model_name": "LayoutModel",
      "state": {}
     },
     "58e37ce849dd470899d382b27a8bb7c0": {
      "model_module": "@jupyter-widgets/controls",
      "model_module_version": "1.5.0",
      "model_name": "HBoxModel",
      "state": {
       "children": [
        "IPY_MODEL_7c4c77955c57411baedd2904dc2fce61",
        "IPY_MODEL_a5220eeb4206414faf6e2e763c2c6e31"
       ],
       "layout": "IPY_MODEL_38beccf0989644b5981c66ef2126ece7"
      }
     },
     "59b4d420c239465589538ac0c70c0a91": {
      "model_module": "@jupyter-widgets/base",
      "model_module_version": "1.2.0",
      "model_name": "LayoutModel",
      "state": {}
     },
     "60bce7e704334c65b444e0daedbd6055": {
      "model_module": "@jupyter-widgets/controls",
      "model_module_version": "1.5.0",
      "model_name": "TextModel",
      "state": {
       "layout": "IPY_MODEL_50deec3adeef41e3ae8100ec7b423cd6",
       "style": "IPY_MODEL_af627f76b60d42698c0f4cb1dc1436f2",
       "value": "Bela"
      }
     },
     "61db034c33ca4620a54471d83ec55ba7": {
      "model_module": "@jupyter-widgets/controls",
      "model_module_version": "1.5.0",
      "model_name": "TextModel",
      "state": {
       "layout": "IPY_MODEL_97e22595308a49e5b65bdd5463160580",
       "style": "IPY_MODEL_c4c32f97b55845849d24cc152f3caf78",
       "value": "Ubul"
      }
     },
     "65a20baf4a1843269856ff5421be6fcf": {
      "model_module": "@jupyter-widgets/controls",
      "model_module_version": "1.5.0",
      "model_name": "DescriptionStyleModel",
      "state": {
       "description_width": ""
      }
     },
     "660103bbfbd34c37899cc2984969501a": {
      "model_module": "@jupyter-widgets/base",
      "model_module_version": "1.2.0",
      "model_name": "LayoutModel",
      "state": {}
     },
     "668de62397654a31a6902cbad524787b": {
      "model_module": "@jupyter-widgets/base",
      "model_module_version": "1.2.0",
      "model_name": "LayoutModel",
      "state": {}
     },
     "76ede159b8634309b2980206ed5e6e1e": {
      "model_module": "@jupyter-widgets/base",
      "model_module_version": "1.2.0",
      "model_name": "LayoutModel",
      "state": {}
     },
     "7a13bc78f94640818a7e4e4adb072bc3": {
      "model_module": "@jupyter-widgets/controls",
      "model_module_version": "1.5.0",
      "model_name": "HBoxModel",
      "state": {
       "children": [
        "IPY_MODEL_23da22252a97466290b49c03d60f0105",
        "IPY_MODEL_e20eb380c25a4fed9d398b3d64d4360a"
       ],
       "layout": "IPY_MODEL_3102b865e6e044789e1c1bb9a74a293a"
      }
     },
     "7b748d2b278c4daeac3979af12dae07d": {
      "model_module": "@jupyter-widgets/base",
      "model_module_version": "1.2.0",
      "model_name": "LayoutModel",
      "state": {}
     },
     "7c4c77955c57411baedd2904dc2fce61": {
      "model_module": "@jupyter-widgets/controls",
      "model_module_version": "1.5.0",
      "model_name": "ButtonModel",
      "state": {
       "description": "Greeting",
       "disabled": true,
       "layout": "IPY_MODEL_333dc728e8594096b2df3d42b4f3b8d4",
       "style": "IPY_MODEL_5248391fb00e4b678cfd1c4d563813b6"
      }
     },
     "803096a4d15e45228cc7e79e1696ad42": {
      "model_module": "@jupyter-widgets/controls",
      "model_module_version": "1.5.0",
      "model_name": "ButtonModel",
      "state": {
       "description": "Your name (?)",
       "disabled": true,
       "layout": "IPY_MODEL_f7617b930ec546789ff140c1a5772541",
       "style": "IPY_MODEL_da59f775fe0e4deaaccc1f84615940e9",
       "tooltip": "Enter your name"
      }
     },
     "80a46ccaf5e247b8945d5f1a7ee35c88": {
      "model_module": "@jupyter-widgets/base",
      "model_module_version": "1.2.0",
      "model_name": "LayoutModel",
      "state": {}
     },
     "8e823eda612f47f29674b26b5e08df76": {
      "model_module": "@jupyter-widgets/controls",
      "model_module_version": "1.5.0",
      "model_name": "ButtonStyleModel",
      "state": {
       "button_color": "lightgreen"
      }
     },
     "97e22595308a49e5b65bdd5463160580": {
      "model_module": "@jupyter-widgets/base",
      "model_module_version": "1.2.0",
      "model_name": "LayoutModel",
      "state": {}
     },
     "986905c6f3734e868c6f0a2638e3ede9": {
      "model_module": "@jupyter-widgets/controls",
      "model_module_version": "1.5.0",
      "model_name": "DescriptionStyleModel",
      "state": {
       "description_width": ""
      }
     },
     "9f7e59dbbd8e44c1a071ec19e9caadf5": {
      "model_module": "@jupyter-widgets/controls",
      "model_module_version": "1.5.0",
      "model_name": "DescriptionStyleModel",
      "state": {
       "description_width": ""
      }
     },
     "a2fbbbb2889440829b789606316ca255": {
      "model_module": "@jupyter-widgets/controls",
      "model_module_version": "1.5.0",
      "model_name": "TextModel",
      "state": {
       "disabled": true,
       "layout": "IPY_MODEL_28e51d89e52a436a8c75abab2d3e0f32",
       "style": "IPY_MODEL_aef57db9da444228b9285333f042c654"
      }
     },
     "a5220eeb4206414faf6e2e763c2c6e31": {
      "model_module": "@jupyter-widgets/controls",
      "model_module_version": "1.5.0",
      "model_name": "TextModel",
      "state": {
       "disabled": true,
       "layout": "IPY_MODEL_76ede159b8634309b2980206ed5e6e1e",
       "style": "IPY_MODEL_986905c6f3734e868c6f0a2638e3ede9",
       "value": "Hello Geza"
      }
     },
     "a5ae8fee58124d059e4e06e9a247b1d5": {
      "model_module": "@jupyter-widgets/base",
      "model_module_version": "1.2.0",
      "model_name": "LayoutModel",
      "state": {}
     },
     "aef57db9da444228b9285333f042c654": {
      "model_module": "@jupyter-widgets/controls",
      "model_module_version": "1.5.0",
      "model_name": "DescriptionStyleModel",
      "state": {
       "description_width": ""
      }
     },
     "af627f76b60d42698c0f4cb1dc1436f2": {
      "model_module": "@jupyter-widgets/controls",
      "model_module_version": "1.5.0",
      "model_name": "DescriptionStyleModel",
      "state": {
       "description_width": ""
      }
     },
     "b8594e6e1938499fa4a94c11e26e7a32": {
      "model_module": "@jupyter-widgets/controls",
      "model_module_version": "1.5.0",
      "model_name": "DescriptionStyleModel",
      "state": {
       "description_width": ""
      }
     },
     "ba9afa92e0e54533afe99a515cfb8afd": {
      "model_module": "@jupyter-widgets/controls",
      "model_module_version": "1.5.0",
      "model_name": "ButtonModel",
      "state": {
       "description": "Greeting",
       "disabled": true,
       "layout": "IPY_MODEL_fe210519d19d4d6d9796101f2c5bbc5e",
       "style": "IPY_MODEL_147f904af5f54687ba719435ac729cab"
      }
     },
     "bedeb3bdd8ff4b818421722d63f6bceb": {
      "model_module": "@jupyter-widgets/controls",
      "model_module_version": "1.5.0",
      "model_name": "HBoxModel",
      "state": {
       "children": [
        "IPY_MODEL_803096a4d15e45228cc7e79e1696ad42",
        "IPY_MODEL_61db034c33ca4620a54471d83ec55ba7"
       ],
       "layout": "IPY_MODEL_07689233ba644838bc1f8589f31aab2d"
      }
     },
     "c4c32f97b55845849d24cc152f3caf78": {
      "model_module": "@jupyter-widgets/controls",
      "model_module_version": "1.5.0",
      "model_name": "DescriptionStyleModel",
      "state": {
       "description_width": ""
      }
     },
     "c7fe5f8cad794cb7adf0be33a8329c29": {
      "model_module": "@jupyter-widgets/base",
      "model_module_version": "1.2.0",
      "model_name": "LayoutModel",
      "state": {}
     },
     "cc9a79fcc5b04980ac1e9d8e64e94839": {
      "model_module": "@jupyter-widgets/controls",
      "model_module_version": "1.5.0",
      "model_name": "ButtonStyleModel",
      "state": {}
     },
     "cee6c64ecd1d499f90da6f8df5edba38": {
      "model_module": "@jupyter-widgets/controls",
      "model_module_version": "1.5.0",
      "model_name": "ButtonModel",
      "state": {
       "description": "Your name (?)",
       "disabled": true,
       "layout": "IPY_MODEL_17428292656a45fd90f636bd2fc8bd20",
       "style": "IPY_MODEL_ec56ec26dba541f3ac5672381ae0b74d",
       "tooltip": "Enter your name"
      }
     },
     "d214ef6fae8c4bdca9c20c04fcad9bcb": {
      "model_module": "@jupyter-widgets/base",
      "model_module_version": "1.2.0",
      "model_name": "LayoutModel",
      "state": {}
     },
     "d6a3788cc81e408fb64dce4b82eb8e61": {
      "model_module": "@jupyter-widgets/controls",
      "model_module_version": "1.5.0",
      "model_name": "DescriptionStyleModel",
      "state": {
       "description_width": ""
      }
     },
     "d8706075980d457187c344b8600044e5": {
      "model_module": "@jupyter-widgets/controls",
      "model_module_version": "1.5.0",
      "model_name": "TextModel",
      "state": {
       "disabled": true,
       "layout": "IPY_MODEL_de0a6e0e1805403ea60c4ec734918a08",
       "style": "IPY_MODEL_9f7e59dbbd8e44c1a071ec19e9caadf5",
       "value": "Hello Ubul"
      }
     },
     "da59f775fe0e4deaaccc1f84615940e9": {
      "model_module": "@jupyter-widgets/controls",
      "model_module_version": "1.5.0",
      "model_name": "ButtonStyleModel",
      "state": {
       "button_color": "lightgreen"
      }
     },
     "da75727a82ed410eab34b48e13701145": {
      "model_module": "@jupyter-widgets/controls",
      "model_module_version": "1.5.0",
      "model_name": "ButtonModel",
      "state": {
       "description": "Your name (?)",
       "disabled": true,
       "layout": "IPY_MODEL_41069b4120c74ff597390612e5e57f86",
       "style": "IPY_MODEL_8e823eda612f47f29674b26b5e08df76",
       "tooltip": "Enter your name"
      }
     },
     "db175a044d6340989083f364815e70db": {
      "model_module": "@jupyter-widgets/controls",
      "model_module_version": "1.5.0",
      "model_name": "ButtonModel",
      "state": {
       "description": "Your name (?)",
       "disabled": true,
       "layout": "IPY_MODEL_59b4d420c239465589538ac0c70c0a91",
       "style": "IPY_MODEL_fb252dbf81364978aa517e7f686bdc6f",
       "tooltip": "Enter your name"
      }
     },
     "de0a6e0e1805403ea60c4ec734918a08": {
      "model_module": "@jupyter-widgets/base",
      "model_module_version": "1.2.0",
      "model_name": "LayoutModel",
      "state": {}
     },
     "e0541e26576a45f6ae2010547365e995": {
      "model_module": "@jupyter-widgets/controls",
      "model_module_version": "1.5.0",
      "model_name": "HBoxModel",
      "state": {
       "children": [
        "IPY_MODEL_ba9afa92e0e54533afe99a515cfb8afd",
        "IPY_MODEL_2ee0a30eb1044de9b6f59b246f171029"
       ],
       "layout": "IPY_MODEL_f26562bad9004b3e98bfe91c1e9c090f"
      }
     },
     "e20eb380c25a4fed9d398b3d64d4360a": {
      "model_module": "@jupyter-widgets/controls",
      "model_module_version": "1.5.0",
      "model_name": "TextModel",
      "state": {
       "disabled": true,
       "layout": "IPY_MODEL_80a46ccaf5e247b8945d5f1a7ee35c88",
       "style": "IPY_MODEL_e57356c44adf479bbad5bfdb72d98e15",
       "value": "Hello Ubul"
      }
     },
     "e57356c44adf479bbad5bfdb72d98e15": {
      "model_module": "@jupyter-widgets/controls",
      "model_module_version": "1.5.0",
      "model_name": "DescriptionStyleModel",
      "state": {
       "description_width": ""
      }
     },
     "ec56ec26dba541f3ac5672381ae0b74d": {
      "model_module": "@jupyter-widgets/controls",
      "model_module_version": "1.5.0",
      "model_name": "ButtonStyleModel",
      "state": {
       "button_color": "lightgreen"
      }
     },
     "f26562bad9004b3e98bfe91c1e9c090f": {
      "model_module": "@jupyter-widgets/base",
      "model_module_version": "1.2.0",
      "model_name": "LayoutModel",
      "state": {}
     },
     "f7617b930ec546789ff140c1a5772541": {
      "model_module": "@jupyter-widgets/base",
      "model_module_version": "1.2.0",
      "model_name": "LayoutModel",
      "state": {}
     },
     "f90b787d7ebd42e88943060a40668d9a": {
      "model_module": "@jupyter-widgets/controls",
      "model_module_version": "1.5.0",
      "model_name": "TextModel",
      "state": {
       "layout": "IPY_MODEL_37182e78f79a4fe29e859b3da9c7b4ac",
       "style": "IPY_MODEL_b8594e6e1938499fa4a94c11e26e7a32",
       "value": "Geza"
      }
     },
     "fa9f2e7c27504de3b5c65ca8d215754f": {
      "model_module": "@jupyter-widgets/controls",
      "model_module_version": "1.5.0",
      "model_name": "ButtonModel",
      "state": {
       "description": "Greeting",
       "disabled": true,
       "layout": "IPY_MODEL_d214ef6fae8c4bdca9c20c04fcad9bcb",
       "style": "IPY_MODEL_cc9a79fcc5b04980ac1e9d8e64e94839"
      }
     },
     "fb252dbf81364978aa517e7f686bdc6f": {
      "model_module": "@jupyter-widgets/controls",
      "model_module_version": "1.5.0",
      "model_name": "ButtonStyleModel",
      "state": {
       "button_color": "lightgreen"
      }
     },
     "fe210519d19d4d6d9796101f2c5bbc5e": {
      "model_module": "@jupyter-widgets/base",
      "model_module_version": "1.2.0",
      "model_name": "LayoutModel",
      "state": {}
     }
    },
    "version_major": 2,
    "version_minor": 0
   }
  }
 },
 "nbformat": 4,
 "nbformat_minor": 5
}
